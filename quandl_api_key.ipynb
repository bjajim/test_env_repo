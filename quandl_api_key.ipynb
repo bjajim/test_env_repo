{
 "cells": [
  {
   "cell_type": "code",
   "execution_count": 1,
   "id": "2bd12961-9931-49c9-8ae5-a1d8fbb20282",
   "metadata": {},
   "outputs": [],
   "source": [
    "# Import required libraries\n",
    "import pandas as pd\n",
    "import os \n",
    "from dotenv import load_dotenv"
   ]
  },
  {
   "cell_type": "code",
   "execution_count": 2,
   "id": "c8779dbc-f7cb-4b7d-9419-6421e2a3403e",
   "metadata": {},
   "outputs": [
    {
     "data": {
      "text/plain": [
       "True"
      ]
     },
     "execution_count": 2,
     "metadata": {},
     "output_type": "execute_result"
    }
   ],
   "source": [
    "# Load .env environment variables into the notebook\n",
    "load_dotenv()"
   ]
  },
  {
   "cell_type": "code",
   "execution_count": 3,
   "id": "ee22573d-677d-44ae-a52b-fb7307bc938b",
   "metadata": {},
   "outputs": [],
   "source": [
    "# Use the Pandas os module and getenv function to retrieve the Quandl API key from the environment variable file.\n",
    "# Store the Quandl API key in a variable of the same name.\n",
    "\n",
    "quandl_api_key = os.getenv(\"QUANDL_API_KEY_ENV\")"
   ]
  },
  {
   "cell_type": "code",
   "execution_count": 4,
   "id": "5ba01544-e3ff-4897-9287-8995c03072ae",
   "metadata": {},
   "outputs": [
    {
     "data": {
      "text/plain": [
       "str"
      ]
     },
     "execution_count": 4,
     "metadata": {},
     "output_type": "execute_result"
    }
   ],
   "source": [
    "type(quandl_api_key)"
   ]
  },
  {
   "cell_type": "code",
   "execution_count": null,
   "id": "c75bd672-2b49-469a-abe4-ea4d4b2f96f9",
   "metadata": {},
   "outputs": [],
   "source": []
  }
 ],
 "metadata": {
  "kernelspec": {
   "display_name": "Python (dev)",
   "language": "python",
   "name": "dev"
  },
  "language_info": {
   "codemirror_mode": {
    "name": "ipython",
    "version": 3
   },
   "file_extension": ".py",
   "mimetype": "text/x-python",
   "name": "python",
   "nbconvert_exporter": "python",
   "pygments_lexer": "ipython3",
   "version": "3.7.11"
  }
 },
 "nbformat": 4,
 "nbformat_minor": 5
}
