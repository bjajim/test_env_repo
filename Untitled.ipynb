{
 "cells": [
  {
   "cell_type": "code",
   "execution_count": 1,
   "id": "631a916a-4b6d-4093-adc5-5a602b8fddd2",
   "metadata": {},
   "outputs": [],
   "source": [
    "import os\n",
    "from dotenv import load_dotenv\n"
   ]
  },
  {
   "cell_type": "code",
   "execution_count": 2,
   "id": "6c67d38d-a8bd-4021-a9a5-df7f6806f098",
   "metadata": {},
   "outputs": [
    {
     "data": {
      "text/plain": [
       "True"
      ]
     },
     "execution_count": 2,
     "metadata": {},
     "output_type": "execute_result"
    }
   ],
   "source": [
    "load_dotenv()"
   ]
  },
  {
   "cell_type": "code",
   "execution_count": 4,
   "id": "b153b3a9-a36b-4631-85bd-253cc2b64ea2",
   "metadata": {},
   "outputs": [
    {
     "name": "stdout",
     "output_type": "stream",
     "text": [
      "“6pByuq6WgtfGQnRWZ56x”\n"
     ]
    }
   ],
   "source": [
    "quandl_api_key = os.getenv(\"QUANDL_API_KEY_ENV\")\n",
    "print(quandl_api_key)"
   ]
  },
  {
   "cell_type": "code",
   "execution_count": 5,
   "id": "e3541840-adf5-44bf-8987-30afe0e3f199",
   "metadata": {},
   "outputs": [
    {
     "data": {
      "text/plain": [
       "str"
      ]
     },
     "execution_count": 5,
     "metadata": {},
     "output_type": "execute_result"
    }
   ],
   "source": [
    "type(quandl_api_key)"
   ]
  },
  {
   "cell_type": "code",
   "execution_count": null,
   "id": "5a94510d-76d4-424f-bdcd-c363eb3cd4c6",
   "metadata": {},
   "outputs": [],
   "source": []
  }
 ],
 "metadata": {
  "kernelspec": {
   "display_name": "Python (dev)",
   "language": "python",
   "name": "dev"
  },
  "language_info": {
   "codemirror_mode": {
    "name": "ipython",
    "version": 3
   },
   "file_extension": ".py",
   "mimetype": "text/x-python",
   "name": "python",
   "nbconvert_exporter": "python",
   "pygments_lexer": "ipython3",
   "version": "3.7.11"
  }
 },
 "nbformat": 4,
 "nbformat_minor": 5
}
